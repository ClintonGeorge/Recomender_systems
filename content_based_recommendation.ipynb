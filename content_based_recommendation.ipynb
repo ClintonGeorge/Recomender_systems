{
  "nbformat": 4,
  "nbformat_minor": 0,
  "metadata": {
    "colab": {
      "name": "content_based_recommendation.ipynb",
      "provenance": [],
      "collapsed_sections": []
    },
    "kernelspec": {
      "name": "python3",
      "display_name": "Python 3"
    },
    "language_info": {
      "name": "python"
    }
  },
  "cells": [
    {
      "cell_type": "code",
      "metadata": {
        "colab": {
          "base_uri": "https://localhost:8080/"
        },
        "id": "-unP-OnmBgXr",
        "outputId": "b1982973-97f1-484f-fa9e-0adc3c32baa2"
      },
      "source": [
        "from google.colab import drive\n",
        "drive.mount('/content/gdrive')"
      ],
      "execution_count": null,
      "outputs": [
        {
          "output_type": "stream",
          "name": "stdout",
          "text": [
            "Mounted at /content/gdrive\n"
          ]
        }
      ]
    },
    {
      "cell_type": "code",
      "metadata": {
        "id": "mqqUlVC2Bt06"
      },
      "source": [
        "import numpy as np\n",
        "import pandas as pd\n",
        "import matplotlib.pyplot as plt\n",
        "import seaborn as sns"
      ],
      "execution_count": null,
      "outputs": []
    },
    {
      "cell_type": "code",
      "metadata": {
        "id": "PD-weDqXHUwl"
      },
      "source": [
        "df_recipes = pd.read_csv('/content/gdrive/MyDrive/Data/RAW_recipes.csv')\n",
        "df_user_interaction= pd.read_csv('/content/gdrive/MyDrive/Data/RAW_interactions.csv')"
      ],
      "execution_count": null,
      "outputs": []
    },
    {
      "cell_type": "code",
      "metadata": {
        "id": "lZTgLBcOHmk8",
        "colab": {
          "base_uri": "https://localhost:8080/",
          "height": 590
        },
        "outputId": "36f430e0-f65c-4d25-ddc1-907630cb3fa9"
      },
      "source": [
        "df_recipes.head(5)"
      ],
      "execution_count": null,
      "outputs": [
        {
          "output_type": "execute_result",
          "data": {
            "text/html": [
              "<div>\n",
              "<style scoped>\n",
              "    .dataframe tbody tr th:only-of-type {\n",
              "        vertical-align: middle;\n",
              "    }\n",
              "\n",
              "    .dataframe tbody tr th {\n",
              "        vertical-align: top;\n",
              "    }\n",
              "\n",
              "    .dataframe thead th {\n",
              "        text-align: right;\n",
              "    }\n",
              "</style>\n",
              "<table border=\"1\" class=\"dataframe\">\n",
              "  <thead>\n",
              "    <tr style=\"text-align: right;\">\n",
              "      <th></th>\n",
              "      <th>name</th>\n",
              "      <th>id</th>\n",
              "      <th>minutes</th>\n",
              "      <th>contributor_id</th>\n",
              "      <th>submitted</th>\n",
              "      <th>tags</th>\n",
              "      <th>nutrition</th>\n",
              "      <th>n_steps</th>\n",
              "      <th>steps</th>\n",
              "      <th>description</th>\n",
              "      <th>ingredients</th>\n",
              "      <th>n_ingredients</th>\n",
              "    </tr>\n",
              "  </thead>\n",
              "  <tbody>\n",
              "    <tr>\n",
              "      <th>0</th>\n",
              "      <td>arriba   baked winter squash mexican style</td>\n",
              "      <td>137739</td>\n",
              "      <td>55</td>\n",
              "      <td>47892</td>\n",
              "      <td>2005-09-16</td>\n",
              "      <td>['60-minutes-or-less', 'time-to-make', 'course...</td>\n",
              "      <td>[51.5, 0.0, 13.0, 0.0, 2.0, 0.0, 4.0]</td>\n",
              "      <td>11</td>\n",
              "      <td>['make a choice and proceed with recipe', 'dep...</td>\n",
              "      <td>autumn is my favorite time of year to cook! th...</td>\n",
              "      <td>['winter squash', 'mexican seasoning', 'mixed ...</td>\n",
              "      <td>7</td>\n",
              "    </tr>\n",
              "    <tr>\n",
              "      <th>1</th>\n",
              "      <td>a bit different  breakfast pizza</td>\n",
              "      <td>31490</td>\n",
              "      <td>30</td>\n",
              "      <td>26278</td>\n",
              "      <td>2002-06-17</td>\n",
              "      <td>['30-minutes-or-less', 'time-to-make', 'course...</td>\n",
              "      <td>[173.4, 18.0, 0.0, 17.0, 22.0, 35.0, 1.0]</td>\n",
              "      <td>9</td>\n",
              "      <td>['preheat oven to 425 degrees f', 'press dough...</td>\n",
              "      <td>this recipe calls for the crust to be prebaked...</td>\n",
              "      <td>['prepared pizza crust', 'sausage patty', 'egg...</td>\n",
              "      <td>6</td>\n",
              "    </tr>\n",
              "    <tr>\n",
              "      <th>2</th>\n",
              "      <td>all in the kitchen  chili</td>\n",
              "      <td>112140</td>\n",
              "      <td>130</td>\n",
              "      <td>196586</td>\n",
              "      <td>2005-02-25</td>\n",
              "      <td>['time-to-make', 'course', 'preparation', 'mai...</td>\n",
              "      <td>[269.8, 22.0, 32.0, 48.0, 39.0, 27.0, 5.0]</td>\n",
              "      <td>6</td>\n",
              "      <td>['brown ground beef in large pot', 'add choppe...</td>\n",
              "      <td>this modified version of 'mom's' chili was a h...</td>\n",
              "      <td>['ground beef', 'yellow onions', 'diced tomato...</td>\n",
              "      <td>13</td>\n",
              "    </tr>\n",
              "    <tr>\n",
              "      <th>3</th>\n",
              "      <td>alouette  potatoes</td>\n",
              "      <td>59389</td>\n",
              "      <td>45</td>\n",
              "      <td>68585</td>\n",
              "      <td>2003-04-14</td>\n",
              "      <td>['60-minutes-or-less', 'time-to-make', 'course...</td>\n",
              "      <td>[368.1, 17.0, 10.0, 2.0, 14.0, 8.0, 20.0]</td>\n",
              "      <td>11</td>\n",
              "      <td>['place potatoes in a large pot of lightly sal...</td>\n",
              "      <td>this is a super easy, great tasting, make ahea...</td>\n",
              "      <td>['spreadable cheese with garlic and herbs', 'n...</td>\n",
              "      <td>11</td>\n",
              "    </tr>\n",
              "    <tr>\n",
              "      <th>4</th>\n",
              "      <td>amish  tomato ketchup  for canning</td>\n",
              "      <td>44061</td>\n",
              "      <td>190</td>\n",
              "      <td>41706</td>\n",
              "      <td>2002-10-25</td>\n",
              "      <td>['weeknight', 'time-to-make', 'course', 'main-...</td>\n",
              "      <td>[352.9, 1.0, 337.0, 23.0, 3.0, 0.0, 28.0]</td>\n",
              "      <td>5</td>\n",
              "      <td>['mix all ingredients&amp; boil for 2 1 / 2 hours ...</td>\n",
              "      <td>my dh's amish mother raised him on this recipe...</td>\n",
              "      <td>['tomato juice', 'apple cider vinegar', 'sugar...</td>\n",
              "      <td>8</td>\n",
              "    </tr>\n",
              "  </tbody>\n",
              "</table>\n",
              "</div>"
            ],
            "text/plain": [
              "                                         name  ...  n_ingredients\n",
              "0  arriba   baked winter squash mexican style  ...              7\n",
              "1            a bit different  breakfast pizza  ...              6\n",
              "2                   all in the kitchen  chili  ...             13\n",
              "3                          alouette  potatoes  ...             11\n",
              "4          amish  tomato ketchup  for canning  ...              8\n",
              "\n",
              "[5 rows x 12 columns]"
            ]
          },
          "metadata": {},
          "execution_count": 4
        }
      ]
    },
    {
      "cell_type": "code",
      "metadata": {
        "colab": {
          "base_uri": "https://localhost:8080/"
        },
        "id": "C47VbCRYV2j7",
        "outputId": "a018cccb-72b7-4941-a630-d800b56b869f"
      },
      "source": [
        "df_recipes.isna().sum()"
      ],
      "execution_count": null,
      "outputs": [
        {
          "output_type": "execute_result",
          "data": {
            "text/plain": [
              "name                 1\n",
              "id                   0\n",
              "minutes              0\n",
              "contributor_id       0\n",
              "submitted            0\n",
              "tags                 0\n",
              "nutrition            0\n",
              "n_steps              0\n",
              "steps                0\n",
              "description       4979\n",
              "ingredients          0\n",
              "n_ingredients        0\n",
              "dtype: int64"
            ]
          },
          "metadata": {},
          "execution_count": 5
        }
      ]
    },
    {
      "cell_type": "code",
      "metadata": {
        "colab": {
          "base_uri": "https://localhost:8080/"
        },
        "id": "OlmcrEEtWxcp",
        "outputId": "daae4639-108c-4192-8ff6-97941ef98eb6"
      },
      "source": [
        "df_recipes.dropna(subset = ['name'], inplace=True)\n",
        "df_recipes.isna().sum()"
      ],
      "execution_count": null,
      "outputs": [
        {
          "output_type": "execute_result",
          "data": {
            "text/plain": [
              "name                 0\n",
              "id                   0\n",
              "minutes              0\n",
              "contributor_id       0\n",
              "submitted            0\n",
              "tags                 0\n",
              "nutrition            0\n",
              "n_steps              0\n",
              "steps                0\n",
              "description       4979\n",
              "ingredients          0\n",
              "n_ingredients        0\n",
              "dtype: int64"
            ]
          },
          "metadata": {},
          "execution_count": 6
        }
      ]
    },
    {
      "cell_type": "code",
      "metadata": {
        "colab": {
          "base_uri": "https://localhost:8080/",
          "height": 139
        },
        "id": "iC43yNf34NTB",
        "outputId": "cf2e6100-0e23-41a7-e1ae-9784ce5ef1ba"
      },
      "source": [
        "df_recipes.iloc[0, 8]"
      ],
      "execution_count": null,
      "outputs": [
        {
          "output_type": "execute_result",
          "data": {
            "application/vnd.google.colaboratory.intrinsic+json": {
              "type": "string"
            },
            "text/plain": [
              "\"['make a choice and proceed with recipe', 'depending on size of squash , cut into half or fourths', 'remove seeds', 'for spicy squash , drizzle olive oil or melted butter over each cut squash piece', 'season with mexican seasoning mix ii', 'for sweet squash , drizzle melted honey , butter , grated piloncillo over each cut squash piece', 'season with sweet mexican spice mix', 'bake at 350 degrees , again depending on size , for 40 minutes up to an hour , until a fork can easily pierce the skin', 'be careful not to burn the squash especially if you opt to use sugar or butter', 'if you feel more comfortable , cover the squash with aluminum foil the first half hour , give or take , of baking', 'if desired , season with salt']\""
            ]
          },
          "metadata": {},
          "execution_count": 7
        }
      ]
    },
    {
      "cell_type": "code",
      "metadata": {
        "id": "dSJH1_862qEw"
      },
      "source": [
        "import ast\n",
        "df_recipes['tags']= [ast.literal_eval(x) for x in df_recipes['tags']]\n",
        "df_recipes['ingredients']= [ast.literal_eval(x) for x in df_recipes['ingredients']]"
      ],
      "execution_count": null,
      "outputs": []
    },
    {
      "cell_type": "code",
      "metadata": {
        "colab": {
          "base_uri": "https://localhost:8080/",
          "height": 660
        },
        "id": "nyIXSmlpcRtU",
        "outputId": "ab554ff2-31e8-4838-9492-703b7f71ef1d"
      },
      "source": [
        "df_recipes.head()"
      ],
      "execution_count": null,
      "outputs": [
        {
          "output_type": "execute_result",
          "data": {
            "text/html": [
              "<div>\n",
              "<style scoped>\n",
              "    .dataframe tbody tr th:only-of-type {\n",
              "        vertical-align: middle;\n",
              "    }\n",
              "\n",
              "    .dataframe tbody tr th {\n",
              "        vertical-align: top;\n",
              "    }\n",
              "\n",
              "    .dataframe thead th {\n",
              "        text-align: right;\n",
              "    }\n",
              "</style>\n",
              "<table border=\"1\" class=\"dataframe\">\n",
              "  <thead>\n",
              "    <tr style=\"text-align: right;\">\n",
              "      <th></th>\n",
              "      <th>name</th>\n",
              "      <th>id</th>\n",
              "      <th>minutes</th>\n",
              "      <th>contributor_id</th>\n",
              "      <th>submitted</th>\n",
              "      <th>tags</th>\n",
              "      <th>nutrition</th>\n",
              "      <th>n_steps</th>\n",
              "      <th>steps</th>\n",
              "      <th>description</th>\n",
              "      <th>ingredients</th>\n",
              "      <th>n_ingredients</th>\n",
              "    </tr>\n",
              "  </thead>\n",
              "  <tbody>\n",
              "    <tr>\n",
              "      <th>0</th>\n",
              "      <td>arriba   baked winter squash mexican style</td>\n",
              "      <td>137739</td>\n",
              "      <td>55</td>\n",
              "      <td>47892</td>\n",
              "      <td>2005-09-16</td>\n",
              "      <td>[60-minutes-or-less, time-to-make, course, mai...</td>\n",
              "      <td>[51.5, 0.0, 13.0, 0.0, 2.0, 0.0, 4.0]</td>\n",
              "      <td>11</td>\n",
              "      <td>['make a choice and proceed with recipe', 'dep...</td>\n",
              "      <td>autumn is my favorite time of year to cook! th...</td>\n",
              "      <td>[winter squash, mexican seasoning, mixed spice...</td>\n",
              "      <td>7</td>\n",
              "    </tr>\n",
              "    <tr>\n",
              "      <th>1</th>\n",
              "      <td>a bit different  breakfast pizza</td>\n",
              "      <td>31490</td>\n",
              "      <td>30</td>\n",
              "      <td>26278</td>\n",
              "      <td>2002-06-17</td>\n",
              "      <td>[30-minutes-or-less, time-to-make, course, mai...</td>\n",
              "      <td>[173.4, 18.0, 0.0, 17.0, 22.0, 35.0, 1.0]</td>\n",
              "      <td>9</td>\n",
              "      <td>['preheat oven to 425 degrees f', 'press dough...</td>\n",
              "      <td>this recipe calls for the crust to be prebaked...</td>\n",
              "      <td>[prepared pizza crust, sausage patty, eggs, mi...</td>\n",
              "      <td>6</td>\n",
              "    </tr>\n",
              "    <tr>\n",
              "      <th>2</th>\n",
              "      <td>all in the kitchen  chili</td>\n",
              "      <td>112140</td>\n",
              "      <td>130</td>\n",
              "      <td>196586</td>\n",
              "      <td>2005-02-25</td>\n",
              "      <td>[time-to-make, course, preparation, main-dish,...</td>\n",
              "      <td>[269.8, 22.0, 32.0, 48.0, 39.0, 27.0, 5.0]</td>\n",
              "      <td>6</td>\n",
              "      <td>['brown ground beef in large pot', 'add choppe...</td>\n",
              "      <td>this modified version of 'mom's' chili was a h...</td>\n",
              "      <td>[ground beef, yellow onions, diced tomatoes, t...</td>\n",
              "      <td>13</td>\n",
              "    </tr>\n",
              "    <tr>\n",
              "      <th>3</th>\n",
              "      <td>alouette  potatoes</td>\n",
              "      <td>59389</td>\n",
              "      <td>45</td>\n",
              "      <td>68585</td>\n",
              "      <td>2003-04-14</td>\n",
              "      <td>[60-minutes-or-less, time-to-make, course, mai...</td>\n",
              "      <td>[368.1, 17.0, 10.0, 2.0, 14.0, 8.0, 20.0]</td>\n",
              "      <td>11</td>\n",
              "      <td>['place potatoes in a large pot of lightly sal...</td>\n",
              "      <td>this is a super easy, great tasting, make ahea...</td>\n",
              "      <td>[spreadable cheese with garlic and herbs, new ...</td>\n",
              "      <td>11</td>\n",
              "    </tr>\n",
              "    <tr>\n",
              "      <th>4</th>\n",
              "      <td>amish  tomato ketchup  for canning</td>\n",
              "      <td>44061</td>\n",
              "      <td>190</td>\n",
              "      <td>41706</td>\n",
              "      <td>2002-10-25</td>\n",
              "      <td>[weeknight, time-to-make, course, main-ingredi...</td>\n",
              "      <td>[352.9, 1.0, 337.0, 23.0, 3.0, 0.0, 28.0]</td>\n",
              "      <td>5</td>\n",
              "      <td>['mix all ingredients&amp; boil for 2 1 / 2 hours ...</td>\n",
              "      <td>my dh's amish mother raised him on this recipe...</td>\n",
              "      <td>[tomato juice, apple cider vinegar, sugar, sal...</td>\n",
              "      <td>8</td>\n",
              "    </tr>\n",
              "  </tbody>\n",
              "</table>\n",
              "</div>"
            ],
            "text/plain": [
              "                                         name  ...  n_ingredients\n",
              "0  arriba   baked winter squash mexican style  ...              7\n",
              "1            a bit different  breakfast pizza  ...              6\n",
              "2                   all in the kitchen  chili  ...             13\n",
              "3                          alouette  potatoes  ...             11\n",
              "4          amish  tomato ketchup  for canning  ...              8\n",
              "\n",
              "[5 rows x 12 columns]"
            ]
          },
          "metadata": {},
          "execution_count": 9
        }
      ]
    },
    {
      "cell_type": "code",
      "metadata": {
        "colab": {
          "base_uri": "https://localhost:8080/"
        },
        "id": "94UPyANt9I7D",
        "outputId": "e5f9086a-0ffc-4d0a-e1aa-25f75c69997c"
      },
      "source": [
        "df_recipes.info()"
      ],
      "execution_count": null,
      "outputs": [
        {
          "output_type": "stream",
          "name": "stdout",
          "text": [
            "<class 'pandas.core.frame.DataFrame'>\n",
            "Int64Index: 231636 entries, 0 to 231636\n",
            "Data columns (total 12 columns):\n",
            " #   Column          Non-Null Count   Dtype \n",
            "---  ------          --------------   ----- \n",
            " 0   name            231636 non-null  object\n",
            " 1   id              231636 non-null  int64 \n",
            " 2   minutes         231636 non-null  int64 \n",
            " 3   contributor_id  231636 non-null  int64 \n",
            " 4   submitted       231636 non-null  object\n",
            " 5   tags            231636 non-null  object\n",
            " 6   nutrition       231636 non-null  object\n",
            " 7   n_steps         231636 non-null  int64 \n",
            " 8   steps           231636 non-null  object\n",
            " 9   description     226657 non-null  object\n",
            " 10  ingredients     231636 non-null  object\n",
            " 11  n_ingredients   231636 non-null  int64 \n",
            "dtypes: int64(5), object(7)\n",
            "memory usage: 23.0+ MB\n"
          ]
        }
      ]
    },
    {
      "cell_type": "code",
      "metadata": {
        "colab": {
          "base_uri": "https://localhost:8080/"
        },
        "id": "0EG-uZ4vBWpO",
        "outputId": "3e51223e-acd8-4143-c771-1b2b0b8414d4"
      },
      "source": [
        "nd_array = np.array(df_recipes[\"name\"])\n",
        "type(nd_array[0])"
      ],
      "execution_count": null,
      "outputs": [
        {
          "output_type": "execute_result",
          "data": {
            "text/plain": [
              "str"
            ]
          },
          "metadata": {},
          "execution_count": 11
        }
      ]
    },
    {
      "cell_type": "code",
      "metadata": {
        "id": "TRlwzKa_VNxu"
      },
      "source": [
        "nd_tags = np.asarray(df_recipes.tags)\n",
        "nd_ingredients = np.asarray(df_recipes.ingredients)"
      ],
      "execution_count": null,
      "outputs": []
    },
    {
      "cell_type": "code",
      "metadata": {
        "id": "e8_j5dWdRM48"
      },
      "source": [
        "import gensim\n",
        "from sklearn.feature_extraction.text import CountVectorizer\n",
        "\n",
        "# Load the list of documents\n",
        "ingredients_all = df_recipes.ingredients.apply(lambda x: \", \".join(x))\n",
        "\n",
        "# Use CountVectorizor to find three letter tokens, remove stop_words, \n",
        "# remove tokens that don't appear in at least 20 documents,\n",
        "# remove tokens that appear in more than 20% of the documents\n",
        "vect = CountVectorizer(token_pattern='(?u)\\\\b\\\\w\\\\w\\\\w+\\\\b')\n",
        "\n",
        "# Fit and transform\n",
        "X = vect.fit_transform(ingredients_all)\n",
        "\n",
        "# Convert sparse matrix to gensim corpus.\n",
        "corpus = gensim.matutils.Sparse2Corpus(X, documents_columns=False)\n",
        "\n",
        "# Mapping from word IDs to words (To be used in LdaModel's id2word parameter)\n",
        "id_map = dict((v, k) for k, v in vect.vocabulary_.items())"
      ],
      "execution_count": null,
      "outputs": []
    },
    {
      "cell_type": "code",
      "metadata": {
        "id": "6ByLLYa_TEUK"
      },
      "source": [
        "ldamodel = gensim.models.ldamodel.LdaModel(corpus,num_topics = 25,passes = 5, random_state = 0, id2word = id_map)"
      ],
      "execution_count": null,
      "outputs": []
    },
    {
      "cell_type": "code",
      "metadata": {
        "colab": {
          "base_uri": "https://localhost:8080/"
        },
        "id": "ifJYCByrTK1Z",
        "outputId": "84bb2d4c-fb61-40e5-9c73-f042782dd45e"
      },
      "source": [
        "dir(ldamodel)"
      ],
      "execution_count": null,
      "outputs": [
        {
          "output_type": "execute_result",
          "data": {
            "text/plain": [
              "['__class__',\n",
              " '__delattr__',\n",
              " '__dict__',\n",
              " '__dir__',\n",
              " '__doc__',\n",
              " '__eq__',\n",
              " '__format__',\n",
              " '__ge__',\n",
              " '__getattribute__',\n",
              " '__getitem__',\n",
              " '__gt__',\n",
              " '__hash__',\n",
              " '__init__',\n",
              " '__init_subclass__',\n",
              " '__le__',\n",
              " '__lt__',\n",
              " '__module__',\n",
              " '__ne__',\n",
              " '__new__',\n",
              " '__reduce__',\n",
              " '__reduce_ex__',\n",
              " '__repr__',\n",
              " '__setattr__',\n",
              " '__sizeof__',\n",
              " '__str__',\n",
              " '__subclasshook__',\n",
              " '__weakref__',\n",
              " '_adapt_by_suffix',\n",
              " '_apply',\n",
              " '_load_specials',\n",
              " '_save_specials',\n",
              " '_smart_save',\n",
              " 'alpha',\n",
              " 'bound',\n",
              " 'callbacks',\n",
              " 'chunksize',\n",
              " 'clear',\n",
              " 'decay',\n",
              " 'diff',\n",
              " 'dispatcher',\n",
              " 'distributed',\n",
              " 'do_estep',\n",
              " 'do_mstep',\n",
              " 'dtype',\n",
              " 'eta',\n",
              " 'eval_every',\n",
              " 'expElogbeta',\n",
              " 'gamma_threshold',\n",
              " 'get_document_topics',\n",
              " 'get_term_topics',\n",
              " 'get_topic_terms',\n",
              " 'get_topics',\n",
              " 'id2word',\n",
              " 'inference',\n",
              " 'init_dir_prior',\n",
              " 'iterations',\n",
              " 'load',\n",
              " 'log_perplexity',\n",
              " 'minimum_phi_value',\n",
              " 'minimum_probability',\n",
              " 'num_terms',\n",
              " 'num_topics',\n",
              " 'num_updates',\n",
              " 'numworkers',\n",
              " 'offset',\n",
              " 'optimize_alpha',\n",
              " 'optimize_eta',\n",
              " 'passes',\n",
              " 'per_word_topics',\n",
              " 'print_topic',\n",
              " 'print_topics',\n",
              " 'random_state',\n",
              " 'save',\n",
              " 'show_topic',\n",
              " 'show_topics',\n",
              " 'state',\n",
              " 'sync_state',\n",
              " 'top_topics',\n",
              " 'update',\n",
              " 'update_alpha',\n",
              " 'update_eta',\n",
              " 'update_every']"
            ]
          },
          "metadata": {},
          "execution_count": 15
        }
      ]
    },
    {
      "cell_type": "code",
      "metadata": {
        "colab": {
          "base_uri": "https://localhost:8080/"
        },
        "id": "qAQ9fC7yd9iJ",
        "outputId": "a4839abb-03c0-47f9-c2f5-09202417673b"
      },
      "source": [
        "ldamodel"
      ],
      "execution_count": null,
      "outputs": [
        {
          "output_type": "execute_result",
          "data": {
            "text/plain": [
              "<gensim.models.ldamodel.LdaModel at 0x7f46fe7fd0d0>"
            ]
          },
          "metadata": {},
          "execution_count": 16
        }
      ]
    },
    {
      "cell_type": "code",
      "metadata": {
        "colab": {
          "base_uri": "https://localhost:8080/"
        },
        "id": "itp5fRDNWkKs",
        "outputId": "f0e151a6-e793-41cb-a37a-75f545c7154a"
      },
      "source": [
        "ldamodel.print_topics(num_topics = 25,num_words = 5)"
      ],
      "execution_count": null,
      "outputs": [
        {
          "output_type": "execute_result",
          "data": {
            "text/plain": [
              "[(0,\n",
              "  '0.076*\"sauce\" + 0.063*\"pepper\" + 0.056*\"ground\" + 0.052*\"onion\" + 0.050*\"beef\" + 0.046*\"powder\" + 0.044*\"garlic\" + 0.039*\"salt\" + 0.038*\"tomato\" + 0.029*\"beans\" + 0.025*\"worcestershire\" + 0.021*\"chili\" + 0.018*\"water\" + 0.017*\"black\" + 0.017*\"tomatoes\"'),\n",
              " (1,\n",
              "  '0.075*\"pepper\" + 0.047*\"fresh\" + 0.044*\"salt\" + 0.042*\"garlic\" + 0.040*\"oil\" + 0.040*\"red\" + 0.039*\"ground\" + 0.032*\"powder\" + 0.031*\"onion\" + 0.030*\"cilantro\" + 0.029*\"cumin\" + 0.028*\"bell\" + 0.023*\"green\" + 0.022*\"black\" + 0.020*\"chili\"'),\n",
              " (2,\n",
              "  '0.105*\"baking\" + 0.092*\"sugar\" + 0.082*\"flour\" + 0.065*\"powder\" + 0.059*\"salt\" + 0.048*\"vanilla\" + 0.047*\"soda\" + 0.042*\"eggs\" + 0.040*\"butter\" + 0.027*\"all\" + 0.026*\"purpose\" + 0.026*\"extract\" + 0.024*\"brown\" + 0.023*\"egg\" + 0.022*\"milk\"'),\n",
              " (3,\n",
              "  '0.167*\"syrup\" + 0.096*\"maple\" + 0.088*\"nutmeg\" + 0.080*\"molasses\" + 0.057*\"toasted\" + 0.053*\"watermelon\" + 0.039*\"clove\" + 0.025*\"cut\" + 0.023*\"sourdough\" + 0.023*\"flavor\" + 0.021*\"crisco\" + 0.021*\"pure\" + 0.020*\"flavoring\" + 0.020*\"creme\" + 0.019*\"split\"'),\n",
              " (4,\n",
              "  '0.199*\"fat\" + 0.097*\"free\" + 0.096*\"low\" + 0.095*\"cooking\" + 0.095*\"yogurt\" + 0.074*\"plain\" + 0.060*\"spray\" + 0.045*\"reduced\" + 0.032*\"nonfat\" + 0.015*\"substitute\" + 0.014*\"flavored\" + 0.012*\"milk\" + 0.012*\"quick\" + 0.011*\"vegan\" + 0.011*\"nonstick\"'),\n",
              " (5,\n",
              "  '0.154*\"flour\" + 0.108*\"butter\" + 0.091*\"all\" + 0.090*\"purpose\" + 0.073*\"unsalted\" + 0.069*\"salt\" + 0.041*\"milk\" + 0.040*\"eggs\" + 0.033*\"sugar\" + 0.023*\"halves\" + 0.018*\"egg\" + 0.016*\"self\" + 0.016*\"water\" + 0.016*\"cornmeal\" + 0.013*\"veal\"'),\n",
              " (6,\n",
              "  '0.096*\"chocolate\" + 0.092*\"butter\" + 0.071*\"chips\" + 0.058*\"pie\" + 0.055*\"sweet\" + 0.055*\"peanut\" + 0.030*\"cracker\" + 0.030*\"crumbs\" + 0.029*\"semi\" + 0.028*\"graham\" + 0.027*\"milk\" + 0.024*\"spice\" + 0.020*\"white\" + 0.019*\"crust\" + 0.017*\"eggs\"'),\n",
              " (7,\n",
              "  '0.163*\"cheese\" + 0.064*\"bread\" + 0.039*\"mozzarella\" + 0.038*\"sauce\" + 0.035*\"feta\" + 0.035*\"sausage\" + 0.032*\"italian\" + 0.031*\"swiss\" + 0.030*\"ham\" + 0.024*\"turkey\" + 0.018*\"rolls\" + 0.017*\"french\" + 0.016*\"pizza\" + 0.015*\"seasoning\" + 0.015*\"dough\"'),\n",
              " (8,\n",
              "  '0.332*\"chicken\" + 0.111*\"boneless\" + 0.095*\"skinless\" + 0.084*\"breasts\" + 0.080*\"broth\" + 0.021*\"hard\" + 0.019*\"boiled\" + 0.018*\"cooked\" + 0.017*\"thighs\" + 0.017*\"pepper\" + 0.013*\"powder\" + 0.012*\"stock\" + 0.012*\"garlic\" + 0.011*\"seasoning\" + 0.010*\"rice\"'),\n",
              " (9,\n",
              "  '0.050*\"pepper\" + 0.042*\"dried\" + 0.041*\"salt\" + 0.038*\"fresh\" + 0.033*\"garlic\" + 0.031*\"chicken\" + 0.031*\"onion\" + 0.029*\"broth\" + 0.028*\"thyme\" + 0.026*\"celery\" + 0.025*\"oil\" + 0.025*\"carrots\" + 0.024*\"parsley\" + 0.021*\"black\" + 0.021*\"bay\"'),\n",
              " (10,\n",
              "  '0.162*\"cheese\" + 0.062*\"pepper\" + 0.054*\"parmesan\" + 0.051*\"salt\" + 0.039*\"butter\" + 0.030*\"cheddar\" + 0.029*\"milk\" + 0.028*\"eggs\" + 0.027*\"garlic\" + 0.025*\"fresh\" + 0.024*\"onion\" + 0.022*\"breadcrumbs\" + 0.019*\"cream\" + 0.017*\"and\" + 0.016*\"parsley\"'),\n",
              " (11,\n",
              "  '0.067*\"soup\" + 0.061*\"onion\" + 0.056*\"cream\" + 0.055*\"potatoes\" + 0.053*\"mushroom\" + 0.040*\"pepper\" + 0.039*\"salt\" + 0.029*\"potato\" + 0.029*\"butter\" + 0.028*\"mix\" + 0.024*\"squash\" + 0.023*\"milk\" + 0.023*\"and\" + 0.023*\"water\" + 0.022*\"frozen\"'),\n",
              " (12,\n",
              "  '0.102*\"whole\" + 0.094*\"egg\" + 0.080*\"wheat\" + 0.068*\"flour\" + 0.062*\"salt\" + 0.058*\"water\" + 0.040*\"yeast\" + 0.033*\"oil\" + 0.032*\"sugar\" + 0.030*\"dry\" + 0.029*\"seed\" + 0.026*\"bread\" + 0.025*\"seeds\" + 0.024*\"white\" + 0.023*\"whites\"'),\n",
              " (13,\n",
              "  '0.083*\"olive\" + 0.081*\"oil\" + 0.063*\"pepper\" + 0.058*\"fresh\" + 0.051*\"garlic\" + 0.045*\"salt\" + 0.034*\"tomatoes\" + 0.033*\"red\" + 0.030*\"basil\" + 0.028*\"black\" + 0.025*\"cloves\" + 0.024*\"extra\" + 0.024*\"dried\" + 0.021*\"ground\" + 0.021*\"virgin\"'),\n",
              " (14,\n",
              "  '0.112*\"sauce\" + 0.067*\"soy\" + 0.067*\"oil\" + 0.046*\"rice\" + 0.041*\"garlic\" + 0.037*\"sesame\" + 0.036*\"sugar\" + 0.031*\"ginger\" + 0.022*\"brown\" + 0.021*\"vinegar\" + 0.020*\"fresh\" + 0.019*\"vegetable\" + 0.019*\"green\" + 0.019*\"water\" + 0.018*\"red\"'),\n",
              " (15,\n",
              "  '0.139*\"mix\" + 0.064*\"dressing\" + 0.062*\"pineapple\" + 0.045*\"cherry\" + 0.043*\"instant\" + 0.042*\"cake\" + 0.036*\"pudding\" + 0.033*\"salad\" + 0.029*\"oil\" + 0.028*\"whip\" + 0.028*\"crushed\" + 0.025*\"cool\" + 0.023*\"ranch\" + 0.020*\"water\" + 0.020*\"eggs\"'),\n",
              " (16,\n",
              "  '0.119*\"pork\" + 0.084*\"scallions\" + 0.060*\"bean\" + 0.053*\"fish\" + 0.050*\"roasted\" + 0.049*\"lemons\" + 0.048*\"chops\" + 0.045*\"golden\" + 0.042*\"peanuts\" + 0.039*\"sprouts\" + 0.037*\"thai\" + 0.034*\"peel\" + 0.031*\"chiles\" + 0.031*\"boneless\" + 0.027*\"loin\"'),\n",
              " (17,\n",
              "  '0.074*\"water\" + 0.062*\"almonds\" + 0.057*\"frozen\" + 0.049*\"strawberries\" + 0.044*\"grain\" + 0.041*\"fresh\" + 0.037*\"strawberry\" + 0.034*\"cranberries\" + 0.034*\"sliced\" + 0.034*\"sugar\" + 0.032*\"cold\" + 0.028*\"long\" + 0.027*\"rice\" + 0.026*\"dried\" + 0.023*\"raspberry\"'),\n",
              " (18,\n",
              "  '0.133*\"ground\" + 0.120*\"cinnamon\" + 0.097*\"sugar\" + 0.074*\"brown\" + 0.052*\"nutmeg\" + 0.030*\"ginger\" + 0.025*\"butter\" + 0.025*\"raisins\" + 0.024*\"apples\" + 0.023*\"allspice\" + 0.022*\"cloves\" + 0.020*\"pumpkin\" + 0.019*\"apple\" + 0.017*\"salt\" + 0.016*\"water\"'),\n",
              " (19,\n",
              "  '0.119*\"mayonnaise\" + 0.066*\"lettuce\" + 0.059*\"green\" + 0.052*\"onion\" + 0.049*\"celery\" + 0.044*\"cabbage\" + 0.040*\"pepper\" + 0.040*\"tuna\" + 0.034*\"red\" + 0.033*\"carrot\" + 0.028*\"onions\" + 0.025*\"bacon\" + 0.024*\"salt\" + 0.023*\"eggs\" + 0.022*\"tomatoes\"'),\n",
              " (20,\n",
              "  '0.123*\"cream\" + 0.096*\"vanilla\" + 0.088*\"sugar\" + 0.071*\"milk\" + 0.043*\"extract\" + 0.040*\"coconut\" + 0.036*\"chocolate\" + 0.030*\"heavy\" + 0.028*\"cheese\" + 0.025*\"whipping\" + 0.024*\"ice\" + 0.024*\"butter\" + 0.021*\"powdered\" + 0.017*\"coffee\" + 0.016*\"whipped\"'),\n",
              " (21,\n",
              "  '0.093*\"vinegar\" + 0.076*\"mustard\" + 0.060*\"salt\" + 0.054*\"pepper\" + 0.046*\"white\" + 0.044*\"wine\" + 0.038*\"half\" + 0.037*\"dijon\" + 0.035*\"and\" + 0.030*\"cider\" + 0.029*\"sugar\" + 0.025*\"red\" + 0.022*\"dill\" + 0.022*\"oil\" + 0.021*\"fresh\"'),\n",
              " (22,\n",
              "  '0.125*\"cheese\" + 0.115*\"cream\" + 0.087*\"sour\" + 0.050*\"cheddar\" + 0.047*\"green\" + 0.033*\"corn\" + 0.031*\"salsa\" + 0.030*\"tortillas\" + 0.027*\"jack\" + 0.026*\"monterey\" + 0.023*\"beans\" + 0.021*\"tomatoes\" + 0.020*\"onion\" + 0.020*\"taco\" + 0.018*\"chilies\"'),\n",
              " (23,\n",
              "  '0.266*\"juice\" + 0.218*\"lemon\" + 0.085*\"orange\" + 0.066*\"fresh\" + 0.045*\"zest\" + 0.043*\"lime\" + 0.025*\"sugar\" + 0.020*\"pineapple\" + 0.016*\"rind\" + 0.012*\"ice\" + 0.012*\"water\" + 0.011*\"vodka\" + 0.010*\"honey\" + 0.009*\"mango\" + 0.008*\"coloring\"'),\n",
              " (24,\n",
              "  '0.167*\"corn\" + 0.095*\"light\" + 0.092*\"water\" + 0.058*\"boiling\" + 0.043*\"syrup\" + 0.042*\"gelatin\" + 0.039*\"soymilk\" + 0.034*\"whole\" + 0.032*\"sugar\" + 0.031*\"kernel\" + 0.028*\"almond\" + 0.024*\"cucumbers\" + 0.020*\"tortellini\" + 0.015*\"scallops\" + 0.015*\"liquid\"')]"
            ]
          },
          "metadata": {},
          "execution_count": 17
        }
      ]
    },
    {
      "cell_type": "code",
      "metadata": {
        "id": "a6_Jx5MG3U2Q"
      },
      "source": [
        "def Sort_Tuple(tup):  \n",
        "    return(sorted(tup, key = lambda x: x[1], reverse = True))   "
      ],
      "execution_count": null,
      "outputs": []
    },
    {
      "cell_type": "code",
      "metadata": {
        "colab": {
          "base_uri": "https://localhost:8080/"
        },
        "id": "vKqYUaJJXEAS",
        "outputId": "c66aa17b-9025-44fa-ee19-462ed47aee26"
      },
      "source": [
        "doc_num, topic_num, prob = [], [], []\n",
        "print(ldamodel.get_document_topics(corpus))\n",
        "for n in range(len(df_recipes)):\n",
        " get_document_topics = ldamodel.get_document_topics(corpus[n])\n",
        " doc_num.append(n)\n",
        " sorted_doc_topics = Sort_Tuple(get_document_topics)\n",
        " topic_num.append(sorted_doc_topics[0][0])\n",
        " prob.append(sorted_doc_topics[0][1])\n",
        "df_recipes[\"Doc\"] = doc_num\n",
        "df_recipes[\"Topic\"] = topic_num\n",
        "df_recipes[\"Probability\"] = prob\n",
        "df_recipes.to_csv(\"doc_topic_matrix.csv\", index=False)"
      ],
      "execution_count": null,
      "outputs": [
        {
          "output_type": "stream",
          "name": "stdout",
          "text": [
            "<gensim.interfaces.TransformedCorpus object at 0x7f46f18daa50>\n"
          ]
        }
      ]
    },
    {
      "cell_type": "code",
      "metadata": {
        "colab": {
          "base_uri": "https://localhost:8080/"
        },
        "id": "IXUym2QEnxPA",
        "outputId": "18976136-0dd8-43ba-fcdb-555fedf06b31"
      },
      "source": [
        "df_recipes.info()"
      ],
      "execution_count": null,
      "outputs": [
        {
          "output_type": "stream",
          "name": "stdout",
          "text": [
            "<class 'pandas.core.frame.DataFrame'>\n",
            "Int64Index: 231636 entries, 0 to 231636\n",
            "Data columns (total 16 columns):\n",
            " #   Column          Non-Null Count   Dtype  \n",
            "---  ------          --------------   -----  \n",
            " 0   name            231636 non-null  string \n",
            " 1   id              231636 non-null  int64  \n",
            " 2   minutes         231636 non-null  int64  \n",
            " 3   contributor_id  231636 non-null  int64  \n",
            " 4   submitted       231636 non-null  object \n",
            " 5   tags            231636 non-null  object \n",
            " 6   nutrition       231636 non-null  object \n",
            " 7   n_steps         231636 non-null  int64  \n",
            " 8   steps           231636 non-null  object \n",
            " 9   description     226657 non-null  object \n",
            " 10  ingredients     231636 non-null  object \n",
            " 11  n_ingredients   231636 non-null  int64  \n",
            " 12  Doc             231636 non-null  int64  \n",
            " 13  Topic           231636 non-null  int64  \n",
            " 14  Probababilty    231636 non-null  float64\n",
            " 15  Probabilty      231636 non-null  float64\n",
            "dtypes: float64(2), int64(7), object(6), string(1)\n",
            "memory usage: 40.0+ MB\n"
          ]
        }
      ]
    },
    {
      "cell_type": "code",
      "metadata": {
        "id": "32G_2k2mlwe5"
      },
      "source": [
        "df_recipes[\"name\"] = df_recipes[\"name\"].astype(\"string\")"
      ],
      "execution_count": null,
      "outputs": []
    },
    {
      "cell_type": "code",
      "metadata": {
        "id": "iPnwMJgeqgum"
      },
      "source": [
        "def recommend_by_ingredients(name, df):\n",
        " recommended = []\n",
        " top10_list = []\n",
        " name = name.replace(\" \",\"\")\n",
        " topic_num = df_recipes[(df_recipes[\"name\"].str.replace(\" \",\"\"))==name].Topic.values\n",
        " doc_num = df_recipes[(df_recipes[\"name\"].str.replace(\" \",\"\"))==name].Doc.values \n",
        " output_df = df_recipes[df_recipes[\"Topic\"]==topic_num[0]].sort_values(\"Probability\", ascending=False).reset_index(drop=True)\n",
        " index = output_df[output_df[\"Doc\"]==doc_num[0]].index[0]\n",
        " \n",
        " top10_list += list(output_df.iloc[index-5:index].index)\n",
        " top10_list += list(output_df.iloc[index+1:index+6].index)\n",
        " \n",
        " output_df[\"name\"] = output_df[\"name\"].str.title()\n",
        " for each in top10_list:\n",
        "    recommended.append(output_df.iloc[each][\"name\"])\n",
        " return recommended\n",
        " "
      ],
      "execution_count": null,
      "outputs": []
    },
    {
      "cell_type": "code",
      "metadata": {
        "colab": {
          "base_uri": "https://localhost:8080/"
        },
        "id": "_RQd9U4I6dl3",
        "outputId": "e345bfa4-a6ef-4e0b-f536-a63e65ef7da1"
      },
      "source": [
        "recommend_by_ingredients(\"arriba baked winter squash mexican style\", df_recipes)"
      ],
      "execution_count": null,
      "outputs": [
        {
          "output_type": "execute_result",
          "data": {
            "text/plain": [
              "['Mu Shu Turkey Wraps',\n",
              " 'Crock Pot Pork Stroganoff',\n",
              " 'Joy S Chicken Pot Pies',\n",
              " 'Zuppa Toscana Soup   Light Version',\n",
              " 'Turkey Corn Chowder',\n",
              " 'Sweet Peas And Carrots In A Tomato Sauce',\n",
              " 'Rose A  Rita  Cocktail',\n",
              " 'Chicken  N  Cheese Casserole',\n",
              " 'Baked Potato Salad   Loaded',\n",
              " 'Baked Cheesy Chicken Spaghetti']"
            ]
          },
          "metadata": {},
          "execution_count": 104
        }
      ]
    },
    {
      "cell_type": "code",
      "metadata": {
        "id": "QnUTzM3s4gJZ"
      },
      "source": [
        ""
      ],
      "execution_count": null,
      "outputs": []
    },
    {
      "cell_type": "code",
      "metadata": {
        "id": "bnS2oz3vohp5"
      },
      "source": [
        ""
      ],
      "execution_count": null,
      "outputs": []
    }
  ]
}